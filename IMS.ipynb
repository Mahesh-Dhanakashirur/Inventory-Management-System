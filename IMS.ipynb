{
  "nbformat": 4,
  "nbformat_minor": 0,
  "metadata": {
    "colab": {
      "name": "IMS.ipynb",
      "provenance": [],
      "collapsed_sections": []
    },
    "kernelspec": {
      "name": "python3",
      "display_name": "Python 3"
    },
    "language_info": {
      "name": "python"
    }
  },
  "cells": [
    {
      "cell_type": "code",
      "metadata": {
        "id": "fEhdWVrBW_KK"
      },
      "source": [
        "record = {1001 : {\"name\": \"dairy milk-silk\" , \"Price\": 120, \"quantity\" : 50},\n",
        "          1002 : {\"name\": \"kit-kat\" , \"Price\": 100, \"quantity\" : 60},\n",
        "          1003 : {\"name\": \"milky-bar\", \"Price\": 80, \"quantity\" : 40},\n",
        "          1004 : {\"name\": \"Dabar Chyawanprash\", \"Price\": 150, \"quantity\" : 70},\n",
        "          1005 : {\"name\": \"Santoor\", \"Price\": 30, \"quantity\" : 100},\n",
        "          1006 : {\"name\": \"Lux\", \"Price\": 25, \"quantity\" : 200},\n",
        "          1007 : {\"name\": \"Horllicks\", \"Price\": 100, \"quantity\" : 80},\n",
        "          1008 : {\"name\": \"Boost\", \"Price\": 120, \"quantity\" : 70},\n",
        "          1009 : {\"name\": \"Hide and Seek\", \"Price\": 50, \"quantity\" : 50},\n",
        "          1010 : {\"name\": \"Head and Shoulders\", \"Price\": 100, \"quantity\" : 80},\n",
        "          1011 : {\"name\": \"Fogg-perfume\", \"Price\": 200, \"quantity\" : 60},\n",
        "          1012 : {\"name\": \"Face wash\", \"Price\": 50, \"quantity\" : 200},\n",
        "          1013 : {\"name\": \"Face-cream\", \"Price\": 80, \"quantity\" : 200},\n",
        "          1014 : {\"name\": \"talcum-powder\", \"Price\": 60, \"quantity\" : 60},\n",
        "          1015 : {\"name\": \"tea-powder-500g\", \"Price\": 80, \"quantity\" : 200},\n",
        "          1016 : {\"name\": \"cashew -1kg\", \"Price\": 800, \"quantity\" : 30},\n",
        "          1017 : {\"name\": \"Ground-nut 1kg\", \"Price\": 100, \"quantity\" : 60},\n",
        "          1018 : {\"name\": \"Conditioner\", \"Price\": 30, \"quantity\" : 150},\n",
        "          1019 : {\"name\": \"sun lotion\", \"Price\": 80, \"quantity\" : 60},\n",
        "          1020 : {\"name\": \"vegetable-Oil 1kg\", \"Price\": 150, \"quantity\" : 60},\n",
        "          1021 : {\"name\": \"close-up\", \"Price\": 40, \"quantity\" : 300},\n",
        "          1022 : {\"name\": \"colgate\", \"Price\": 50, \"quantity\" : 100},\n",
        "          1023 : {\"name\": \"refine-oil\", \"Price\": 150, \"quantity\" : 50},\n",
        "          1024 : {\"name\": \"Parle-G\", \"Price\": 10, \"quantity\" : 1000},\n",
        "          1025 : {\"name\": \"Marie-Gold\", \"Price\": 10, \"quantity\" : 100},\n",
        "          1026 : {\"name\": \"Hair-Oil\", \"Price\": 20, \"quantity\" : 100},\n",
        "          1027 : {\"name\": \"detergent-powder\", \"Price\": 100, \"quantity\" : 60},\n",
        "          1028 : {\"name\": \"RIN-detergent cake\", \"Price\": 10, \"quantity\" : 100},\n",
        "          1029 : {\"name\": \"Tide-Rs-10\", \"Price\": 10, \"quantity\" : 50},\n",
        "          1030 : {\"name\": \"TATA-SALT\", \"Price\": 10, \"quantity\" : 80},\n",
        "}"
      ],
      "execution_count": 13,
      "outputs": []
    },
    {
      "cell_type": "code",
      "metadata": {
        "colab": {
          "base_uri": "https://localhost:8080/",
          "height": 35
        },
        "id": "Nz7AMiY3W_ey",
        "outputId": "aa001bb8-47da-4d3d-cd84-82cae193391f"
      },
      "source": [
        "record\n",
        "\n",
        "import json\n",
        "\n",
        "js = json.dumps(record)\n",
        "\n",
        "js\n",
        "\n",
        "fd = open(\"record.js\",'w')\n",
        "fd.write(js)\n",
        "fd.close()\n",
        "\n",
        "import json\n",
        "fd = open(\"record.js\",'r')\n",
        "r = fd.read()\n",
        "fd.close()\n",
        "records = json.loads(r)\n",
        "\n",
        "js\n",
        "\n",
        "\"\"\"# PURCHASE ITEMS\"\"\"\n",
        "\n"
      ],
      "execution_count": 7,
      "outputs": [
        {
          "output_type": "execute_result",
          "data": {
            "application/vnd.google.colaboratory.intrinsic+json": {
              "type": "string"
            },
            "text/plain": [
              "'# PURCHASE ITEMS'"
            ]
          },
          "metadata": {},
          "execution_count": 7
        }
      ]
    },
    {
      "cell_type": "code",
      "metadata": {
        "colab": {
          "base_uri": "https://localhost:8080/"
        },
        "id": "2_yEaTt3YPX5",
        "outputId": "871e7209-7452-43ed-88b2-1450b2cab714"
      },
      "source": [
        "n=int(input(\"enter the number of products \\n\"))\n",
        "sum=int(0)\n",
        "count=int(0)\n",
        "for i in range (0,n):\n",
        "    print(\"****************************************\")\n",
        "    ui_prod  = int(input(\"Enter the product_Id: \"))\n",
        "    ui_quant = int(input(\"Enter the quantity: \"))\n",
        "    print(\"----------------------------------------\")\n",
        "    print(\"Product: \", record[ui_prod]['name'])\n",
        "    print(\"Price: \", record[ui_prod]['Price'])\n",
        "    print( \"quantity: \",ui_quant)\n",
        "    count=count+ui_quant\n",
        "    print(\"Billing Amount: \", record[ui_prod]['Price'] * ui_quant)\n",
        "    record[ui_prod]['quantity'] = record[ui_prod]['quantity'] - ui_quant\n",
        "    sum=sum+record[ui_prod]['Price'] * ui_quant\n",
        "    print(\"****************************************\")\n",
        "    print(\"number of product purchased:\",n)\n",
        "    print(\"total number of items:\",count)\n",
        "    print(\"Total amount:\",sum)\n",
        "    \n",
        "print(\"________________________________________\")    \n",
        "print(\"Thank You   Visit Again\")\n",
        "\n",
        "    \n"
      ],
      "execution_count": 16,
      "outputs": [
        {
          "output_type": "stream",
          "name": "stdout",
          "text": [
            "enter the number of products \n",
            "5\n",
            "****************************************\n",
            "Enter the product_Id: 1001\n",
            "Enter the quantity: 5\n",
            "----------------------------------------\n",
            "Product:  dairy milk-silk\n",
            "Price:  120\n",
            "quantity:  5\n",
            "Billing Amount:  600\n",
            "****************************************\n",
            "number of product purchased: 5\n",
            "total number of items: 5\n",
            "Total amount: 600\n",
            "****************************************\n",
            "Enter the product_Id: 1002\n",
            "Enter the quantity: 5\n",
            "----------------------------------------\n",
            "Product:  kit-kat\n",
            "Price:  100\n",
            "quantity:  5\n",
            "Billing Amount:  500\n",
            "****************************************\n",
            "number of product purchased: 5\n",
            "total number of items: 10\n",
            "Total amount: 1100\n",
            "****************************************\n",
            "Enter the product_Id: 1003\n",
            "Enter the quantity: 5\n",
            "----------------------------------------\n",
            "Product:  milky-bar\n",
            "Price:  80\n",
            "quantity:  5\n",
            "Billing Amount:  400\n",
            "****************************************\n",
            "number of product purchased: 5\n",
            "total number of items: 15\n",
            "Total amount: 1500\n",
            "****************************************\n",
            "Enter the product_Id: 1004\n",
            "Enter the quantity: 5\n",
            "----------------------------------------\n",
            "Product:  Dabar Chyawanprash\n",
            "Price:  150\n",
            "quantity:  5\n",
            "Billing Amount:  750\n",
            "****************************************\n",
            "number of product purchased: 5\n",
            "total number of items: 20\n",
            "Total amount: 2250\n",
            "****************************************\n",
            "Enter the product_Id: 1005\n",
            "Enter the quantity: 5\n",
            "----------------------------------------\n",
            "Product:  Santoor\n",
            "Price:  30\n",
            "quantity:  5\n",
            "Billing Amount:  150\n",
            "****************************************\n",
            "number of product purchased: 5\n",
            "total number of items: 25\n",
            "Total amount: 2400\n",
            "________________________________________\n",
            "Thank You   Visit Again\n"
          ]
        }
      ]
    }
  ]
}